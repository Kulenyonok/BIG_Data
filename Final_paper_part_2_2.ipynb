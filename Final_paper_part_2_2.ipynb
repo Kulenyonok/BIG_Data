{
  "nbformat": 4,
  "nbformat_minor": 0,
  "metadata": {
    "colab": {
      "name": "Final_paper_part 2_2.ipynb",
      "provenance": [],
      "authorship_tag": "ABX9TyMUf3PMvhHPjCAfvOyCfSsh",
      "include_colab_link": true
    },
    "kernelspec": {
      "name": "python3",
      "display_name": "Python 3"
    },
    "language_info": {
      "name": "python"
    }
  },
  "cells": [
    {
      "cell_type": "markdown",
      "metadata": {
        "id": "view-in-github",
        "colab_type": "text"
      },
      "source": [
        "<a href=\"https://colab.research.google.com/github/Kulenyonok/BIG_Data/blob/main/Final_paper_part_2_2.ipynb\" target=\"_parent\"><img src=\"https://colab.research.google.com/assets/colab-badge.svg\" alt=\"Open In Colab\"/></a>"
      ]
    },
    {
      "cell_type": "markdown",
      "source": [
        "EX_8"
      ],
      "metadata": {
        "id": "f3XqLVDsNGHA"
      }
    },
    {
      "cell_type": "code",
      "metadata": {
        "id": "Q5XdW4eUdiwJ",
        "colab": {
          "base_uri": "https://localhost:8080/"
        },
        "outputId": "d7cda19d-30f3-4f4b-a6d0-09f35db3a243"
      },
      "source": [
        "!apt-get update"
      ],
      "execution_count": null,
      "outputs": [
        {
          "output_type": "stream",
          "name": "stdout",
          "text": [
            "\r0% [Working]\r            \rGet:1 http://security.ubuntu.com/ubuntu bionic-security InRelease [88.7 kB]\n",
            "\r0% [Connecting to archive.ubuntu.com] [1 InRelease 14.2 kB/88.7 kB 16%] [Connec\r                                                                               \rHit:2 https://developer.download.nvidia.com/compute/cuda/repos/ubuntu1804/x86_64  InRelease\n",
            "Get:3 https://cloud.r-project.org/bin/linux/ubuntu bionic-cran40/ InRelease [3,626 B]\n",
            "Hit:4 http://ppa.launchpad.net/c2d4u.team/c2d4u4.0+/ubuntu bionic InRelease\n",
            "Hit:5 http://archive.ubuntu.com/ubuntu bionic InRelease\n",
            "Ign:6 https://developer.download.nvidia.com/compute/machine-learning/repos/ubuntu1804/x86_64  InRelease\n",
            "Get:7 http://archive.ubuntu.com/ubuntu bionic-updates InRelease [88.7 kB]\n",
            "Hit:8 https://developer.download.nvidia.com/compute/machine-learning/repos/ubuntu1804/x86_64  Release\n",
            "Hit:9 http://ppa.launchpad.net/cran/libgit2/ubuntu bionic InRelease\n",
            "Get:10 http://security.ubuntu.com/ubuntu bionic-security/universe amd64 Packages [1,526 kB]\n",
            "Hit:11 http://ppa.launchpad.net/deadsnakes/ppa/ubuntu bionic InRelease\n",
            "Get:12 http://archive.ubuntu.com/ubuntu bionic-backports InRelease [74.6 kB]\n",
            "Get:13 https://cloud.r-project.org/bin/linux/ubuntu bionic-cran40/ Packages [85.6 kB]\n",
            "Hit:14 http://ppa.launchpad.net/graphics-drivers/ppa/ubuntu bionic InRelease\n",
            "Get:15 http://security.ubuntu.com/ubuntu bionic-security/main amd64 Packages [2,898 kB]\n",
            "Get:17 http://archive.ubuntu.com/ubuntu bionic-updates/universe amd64 Packages [2,302 kB]\n",
            "Get:18 http://security.ubuntu.com/ubuntu bionic-security/restricted amd64 Packages [1,060 kB]\n",
            "Get:19 http://archive.ubuntu.com/ubuntu bionic-updates/main amd64 Packages [3,331 kB]\n",
            "Get:20 http://archive.ubuntu.com/ubuntu bionic-updates/restricted amd64 Packages [1,103 kB]\n",
            "Fetched 12.6 MB in 4s (3,474 kB/s)\n",
            "Reading package lists... Done\n"
          ]
        }
      ]
    },
    {
      "cell_type": "code",
      "metadata": {
        "id": "1HyDmS5WduU3"
      },
      "source": [
        "!apt-get install openjdk-8-jdk-headless -qq > /dev/null"
      ],
      "execution_count": null,
      "outputs": []
    },
    {
      "cell_type": "code",
      "metadata": {
        "id": "9yRaYSD6dux4"
      },
      "source": [
        "!wget -q https://dlcdn.apache.org/spark/spark-3.3.0/spark-3.3.0-bin-hadoop3.tgz"
      ],
      "execution_count": null,
      "outputs": []
    },
    {
      "cell_type": "code",
      "metadata": {
        "id": "Z2MaC-k0dx8l"
      },
      "source": [
        "!tar xf spark-3.3.0-bin-hadoop3.tgz"
      ],
      "execution_count": null,
      "outputs": []
    },
    {
      "cell_type": "code",
      "metadata": {
        "id": "-FU66EXfd1Rl"
      },
      "source": [
        "!pip install -q findspark"
      ],
      "execution_count": null,
      "outputs": []
    },
    {
      "cell_type": "code",
      "metadata": {
        "id": "jB-CCdMzd5GZ"
      },
      "source": [
        "import os\n",
        "os.environ[\"JAVA_HOME\"] = \"/usr/lib/jvm/java-8-openjdk-amd64\"\n",
        "os.environ[\"SPARK_HOME\"] = \"/content/spark-3.3.0-bin-hadoop3\""
      ],
      "execution_count": null,
      "outputs": []
    },
    {
      "cell_type": "code",
      "metadata": {
        "id": "OERndGb_d8zg"
      },
      "source": [
        "import findspark\n",
        "findspark.init()\n",
        "from pyspark.sql import SparkSession\n",
        "\n",
        "spark = SparkSession.builder.master(\"local[*]\").getOrCreate()"
      ],
      "execution_count": null,
      "outputs": []
    },
    {
      "cell_type": "code",
      "source": [
        "ratings = spark.read.option(\"delimiter\", \"\\t\").option(\"header\", False).csv('u.data.csv', inferSchema=True)"
      ],
      "metadata": {
        "id": "HRV7qHDgRiGS"
      },
      "execution_count": null,
      "outputs": []
    },
    {
      "cell_type": "code",
      "source": [
        "ratings.show()"
      ],
      "metadata": {
        "colab": {
          "base_uri": "https://localhost:8080/"
        },
        "id": "voLZX3pDPUus",
        "outputId": "c7ce09e9-dc37-4269-9030-8b4915bd7032"
      },
      "execution_count": null,
      "outputs": [
        {
          "output_type": "stream",
          "name": "stdout",
          "text": [
            "+---+----+---+---------+\n",
            "|_c0| _c1|_c2|      _c3|\n",
            "+---+----+---+---------+\n",
            "|196| 242|  3|881250949|\n",
            "|186| 302|  3|891717742|\n",
            "| 22| 377|  1|878887116|\n",
            "|244|  51|  2|880606923|\n",
            "|166| 346|  1|886397596|\n",
            "|298| 474|  4|884182806|\n",
            "|115| 265|  2|881171488|\n",
            "|253| 465|  5|891628467|\n",
            "|305| 451|  3|886324817|\n",
            "|  6|  86|  3|883603013|\n",
            "| 62| 257|  2|879372434|\n",
            "|286|1014|  5|879781125|\n",
            "|200| 222|  5|876042340|\n",
            "|210|  40|  3|891035994|\n",
            "|224|  29|  3|888104457|\n",
            "|303| 785|  3|879485318|\n",
            "|122| 387|  5|879270459|\n",
            "|194| 274|  2|879539794|\n",
            "|291|1042|  4|874834944|\n",
            "|234|1184|  2|892079237|\n",
            "+---+----+---+---------+\n",
            "only showing top 20 rows\n",
            "\n"
          ]
        }
      ]
    },
    {
      "cell_type": "code",
      "source": [
        "names = ['user id', 'item id', 'rating', 'timestamp']"
      ],
      "metadata": {
        "id": "NFsMXm15cMIv"
      },
      "execution_count": null,
      "outputs": []
    },
    {
      "cell_type": "code",
      "source": [
        "ratings.columns"
      ],
      "metadata": {
        "colab": {
          "base_uri": "https://localhost:8080/"
        },
        "id": "SB-Y1XWTcO2V",
        "outputId": "3478ce35-1481-4a57-81e8-095a0c31bded"
      },
      "execution_count": null,
      "outputs": [
        {
          "output_type": "execute_result",
          "data": {
            "text/plain": [
              "['_c0', '_c1', '_c2', '_c3']"
            ]
          },
          "metadata": {},
          "execution_count": 12
        }
      ]
    },
    {
      "cell_type": "code",
      "source": [
        "for col, coln in zip(ratings.columns, names):\n",
        "  ratings = ratings.withColumnRenamed(col, coln)"
      ],
      "metadata": {
        "id": "AI6C5Pnk9Y8k"
      },
      "execution_count": null,
      "outputs": []
    },
    {
      "cell_type": "code",
      "source": [
        "ratings.show()"
      ],
      "metadata": {
        "colab": {
          "base_uri": "https://localhost:8080/"
        },
        "id": "50-NFAOq_gHW",
        "outputId": "04ece54e-a7b0-42ae-c639-f36c672a99fe"
      },
      "execution_count": null,
      "outputs": [
        {
          "output_type": "stream",
          "name": "stdout",
          "text": [
            "+-------+-------+------+---------+\n",
            "|user id|item id|rating|timestamp|\n",
            "+-------+-------+------+---------+\n",
            "|    196|    242|     3|881250949|\n",
            "|    186|    302|     3|891717742|\n",
            "|     22|    377|     1|878887116|\n",
            "|    244|     51|     2|880606923|\n",
            "|    166|    346|     1|886397596|\n",
            "|    298|    474|     4|884182806|\n",
            "|    115|    265|     2|881171488|\n",
            "|    253|    465|     5|891628467|\n",
            "|    305|    451|     3|886324817|\n",
            "|      6|     86|     3|883603013|\n",
            "|     62|    257|     2|879372434|\n",
            "|    286|   1014|     5|879781125|\n",
            "|    200|    222|     5|876042340|\n",
            "|    210|     40|     3|891035994|\n",
            "|    224|     29|     3|888104457|\n",
            "|    303|    785|     3|879485318|\n",
            "|    122|    387|     5|879270459|\n",
            "|    194|    274|     2|879539794|\n",
            "|    291|   1042|     4|874834944|\n",
            "|    234|   1184|     2|892079237|\n",
            "+-------+-------+------+---------+\n",
            "only showing top 20 rows\n",
            "\n"
          ]
        }
      ]
    },
    {
      "cell_type": "code",
      "source": [
        "movies = spark.read.option(\"delimiter\", \"|\").option(\"header\", False).csv('u.item.csv', inferSchema=True)"
      ],
      "metadata": {
        "id": "RjI67MjA_-96"
      },
      "execution_count": null,
      "outputs": []
    },
    {
      "cell_type": "code",
      "source": [
        "movies.show()"
      ],
      "metadata": {
        "colab": {
          "base_uri": "https://localhost:8080/"
        },
        "outputId": "c5f98f4e-b8c6-4660-d726-6b71f4a63af0",
        "id": "h2MC45yT_-97"
      },
      "execution_count": null,
      "outputs": [
        {
          "output_type": "stream",
          "name": "stdout",
          "text": [
            "+---+--------------------+-----------+----+--------------------+---+---+---+---+---+----+----+----+----+----+----+----+----+----+----+----+----+----+----+\n",
            "|_c0|                 _c1|        _c2| _c3|                 _c4|_c5|_c6|_c7|_c8|_c9|_c10|_c11|_c12|_c13|_c14|_c15|_c16|_c17|_c18|_c19|_c20|_c21|_c22|_c23|\n",
            "+---+--------------------+-----------+----+--------------------+---+---+---+---+---+----+----+----+----+----+----+----+----+----+----+----+----+----+----+\n",
            "|  1|    Toy Story (1995)|01-Jan-1995|null|http://us.imdb.co...|  0|  0|  0|  1|  1|   1|   0|   0|   0|   0|   0|   0|   0|   0|   0|   0|   0|   0|   0|\n",
            "|  2|    GoldenEye (1995)|01-Jan-1995|null|http://us.imdb.co...|  0|  1|  1|  0|  0|   0|   0|   0|   0|   0|   0|   0|   0|   0|   0|   0|   1|   0|   0|\n",
            "|  3|   Four Rooms (1995)|01-Jan-1995|null|http://us.imdb.co...|  0|  0|  0|  0|  0|   0|   0|   0|   0|   0|   0|   0|   0|   0|   0|   0|   1|   0|   0|\n",
            "|  4|   Get Shorty (1995)|01-Jan-1995|null|http://us.imdb.co...|  0|  1|  0|  0|  0|   1|   0|   0|   1|   0|   0|   0|   0|   0|   0|   0|   0|   0|   0|\n",
            "|  5|      Copycat (1995)|01-Jan-1995|null|http://us.imdb.co...|  0|  0|  0|  0|  0|   0|   1|   0|   1|   0|   0|   0|   0|   0|   0|   0|   1|   0|   0|\n",
            "|  6|Shanghai Triad (Y...|01-Jan-1995|null|http://us.imdb.co...|  0|  0|  0|  0|  0|   0|   0|   0|   1|   0|   0|   0|   0|   0|   0|   0|   0|   0|   0|\n",
            "|  7|Twelve Monkeys (1...|01-Jan-1995|null|http://us.imdb.co...|  0|  0|  0|  0|  0|   0|   0|   0|   1|   0|   0|   0|   0|   0|   0|   1|   0|   0|   0|\n",
            "|  8|         Babe (1995)|01-Jan-1995|null|http://us.imdb.co...|  0|  0|  0|  0|  1|   1|   0|   0|   1|   0|   0|   0|   0|   0|   0|   0|   0|   0|   0|\n",
            "|  9|Dead Man Walking ...|01-Jan-1995|null|http://us.imdb.co...|  0|  0|  0|  0|  0|   0|   0|   0|   1|   0|   0|   0|   0|   0|   0|   0|   0|   0|   0|\n",
            "| 10|  Richard III (1995)|22-Jan-1996|null|http://us.imdb.co...|  0|  0|  0|  0|  0|   0|   0|   0|   1|   0|   0|   0|   0|   0|   0|   0|   0|   1|   0|\n",
            "| 11|Seven (Se7en) (1995)|01-Jan-1995|null|http://us.imdb.co...|  0|  0|  0|  0|  0|   0|   1|   0|   0|   0|   0|   0|   0|   0|   0|   0|   1|   0|   0|\n",
            "| 12|Usual Suspects, T...|14-Aug-1995|null|http://us.imdb.co...|  0|  0|  0|  0|  0|   0|   1|   0|   0|   0|   0|   0|   0|   0|   0|   0|   1|   0|   0|\n",
            "| 13|Mighty Aphrodite ...|30-Oct-1995|null|http://us.imdb.co...|  0|  0|  0|  0|  0|   1|   0|   0|   0|   0|   0|   0|   0|   0|   0|   0|   0|   0|   0|\n",
            "| 14|  Postino, Il (1994)|01-Jan-1994|null|http://us.imdb.co...|  0|  0|  0|  0|  0|   0|   0|   0|   1|   0|   0|   0|   0|   0|   1|   0|   0|   0|   0|\n",
            "| 15|Mr. Holland's Opu...|29-Jan-1996|null|http://us.imdb.co...|  0|  0|  0|  0|  0|   0|   0|   0|   1|   0|   0|   0|   0|   0|   0|   0|   0|   0|   0|\n",
            "| 16|French Twist (Gaz...|01-Jan-1995|null|http://us.imdb.co...|  0|  0|  0|  0|  0|   1|   0|   0|   0|   0|   0|   0|   0|   0|   1|   0|   0|   0|   0|\n",
            "| 17|From Dusk Till Da...|05-Feb-1996|null|http://us.imdb.co...|  0|  1|  0|  0|  0|   1|   1|   0|   0|   0|   0|   1|   0|   0|   0|   0|   1|   0|   0|\n",
            "| 18|White Balloon, Th...|01-Jan-1995|null|http://us.imdb.co...|  0|  0|  0|  0|  0|   0|   0|   0|   1|   0|   0|   0|   0|   0|   0|   0|   0|   0|   0|\n",
            "| 19|Antonia's Line (1...|01-Jan-1995|null|http://us.imdb.co...|  0|  0|  0|  0|  0|   0|   0|   0|   1|   0|   0|   0|   0|   0|   0|   0|   0|   0|   0|\n",
            "| 20|Angels and Insect...|01-Jan-1995|null|http://us.imdb.co...|  0|  0|  0|  0|  0|   0|   0|   0|   1|   0|   0|   0|   0|   0|   1|   0|   0|   0|   0|\n",
            "+---+--------------------+-----------+----+--------------------+---+---+---+---+---+----+----+----+----+----+----+----+----+----+----+----+----+----+----+\n",
            "only showing top 20 rows\n",
            "\n"
          ]
        }
      ]
    },
    {
      "cell_type": "code",
      "source": [
        "names2 = ['movie id',\n",
        " 'movie title',\n",
        " 'release date',\n",
        " 'video release date',\n",
        " 'IMDb URL',\n",
        " 'unknown',\n",
        " 'Action',\n",
        " 'Adventure',\n",
        " 'Animation',\n",
        " 'Childrens',\n",
        " 'Comedy',\n",
        " 'Crime',\n",
        " 'Documentary',\n",
        " 'Drama',\n",
        " 'Fantasy',\n",
        " 'Film-Noir',\n",
        " 'Horror',\n",
        " 'Musical',\n",
        " 'Mystery',\n",
        " 'Romance',\n",
        " 'Sci-Fi',\n",
        " 'Thriller',\n",
        " 'War',\n",
        " 'Western']"
      ],
      "metadata": {
        "id": "gWFKZuMZ_-97"
      },
      "execution_count": null,
      "outputs": []
    },
    {
      "cell_type": "code",
      "source": [
        "movies.columns"
      ],
      "metadata": {
        "colab": {
          "base_uri": "https://localhost:8080/"
        },
        "outputId": "9ff9582d-d966-474f-965f-99b24731d9ed",
        "id": "DunZiZTn_-97"
      },
      "execution_count": null,
      "outputs": [
        {
          "output_type": "execute_result",
          "data": {
            "text/plain": [
              "['_c0',\n",
              " '_c1',\n",
              " '_c2',\n",
              " '_c3',\n",
              " '_c4',\n",
              " '_c5',\n",
              " '_c6',\n",
              " '_c7',\n",
              " '_c8',\n",
              " '_c9',\n",
              " '_c10',\n",
              " '_c11',\n",
              " '_c12',\n",
              " '_c13',\n",
              " '_c14',\n",
              " '_c15',\n",
              " '_c16',\n",
              " '_c17',\n",
              " '_c18',\n",
              " '_c19',\n",
              " '_c20',\n",
              " '_c21',\n",
              " '_c22',\n",
              " '_c23']"
            ]
          },
          "metadata": {},
          "execution_count": 18
        }
      ]
    },
    {
      "cell_type": "code",
      "source": [
        "for col, coln in zip(movies.columns, names2):\n",
        "  movies = movies.withColumnRenamed(col, coln)"
      ],
      "metadata": {
        "id": "T2-DDJcp_-97"
      },
      "execution_count": null,
      "outputs": []
    },
    {
      "cell_type": "code",
      "source": [
        "movies.show()"
      ],
      "metadata": {
        "colab": {
          "base_uri": "https://localhost:8080/"
        },
        "outputId": "b9da66da-14c7-47cb-b861-86b89b3b673c",
        "id": "4-tENsOI_-97"
      },
      "execution_count": null,
      "outputs": [
        {
          "output_type": "stream",
          "name": "stdout",
          "text": [
            "+--------+--------------------+------------+------------------+--------------------+-------+------+---------+---------+---------+------+-----+-----------+-----+-------+---------+------+-------+-------+-------+------+--------+---+-------+\n",
            "|movie id|         movie title|release date|video release date|            IMDb URL|unknown|Action|Adventure|Animation|Childrens|Comedy|Crime|Documentary|Drama|Fantasy|Film-Noir|Horror|Musical|Mystery|Romance|Sci-Fi|Thriller|War|Western|\n",
            "+--------+--------------------+------------+------------------+--------------------+-------+------+---------+---------+---------+------+-----+-----------+-----+-------+---------+------+-------+-------+-------+------+--------+---+-------+\n",
            "|       1|    Toy Story (1995)| 01-Jan-1995|              null|http://us.imdb.co...|      0|     0|        0|        1|        1|     1|    0|          0|    0|      0|        0|     0|      0|      0|      0|     0|       0|  0|      0|\n",
            "|       2|    GoldenEye (1995)| 01-Jan-1995|              null|http://us.imdb.co...|      0|     1|        1|        0|        0|     0|    0|          0|    0|      0|        0|     0|      0|      0|      0|     0|       1|  0|      0|\n",
            "|       3|   Four Rooms (1995)| 01-Jan-1995|              null|http://us.imdb.co...|      0|     0|        0|        0|        0|     0|    0|          0|    0|      0|        0|     0|      0|      0|      0|     0|       1|  0|      0|\n",
            "|       4|   Get Shorty (1995)| 01-Jan-1995|              null|http://us.imdb.co...|      0|     1|        0|        0|        0|     1|    0|          0|    1|      0|        0|     0|      0|      0|      0|     0|       0|  0|      0|\n",
            "|       5|      Copycat (1995)| 01-Jan-1995|              null|http://us.imdb.co...|      0|     0|        0|        0|        0|     0|    1|          0|    1|      0|        0|     0|      0|      0|      0|     0|       1|  0|      0|\n",
            "|       6|Shanghai Triad (Y...| 01-Jan-1995|              null|http://us.imdb.co...|      0|     0|        0|        0|        0|     0|    0|          0|    1|      0|        0|     0|      0|      0|      0|     0|       0|  0|      0|\n",
            "|       7|Twelve Monkeys (1...| 01-Jan-1995|              null|http://us.imdb.co...|      0|     0|        0|        0|        0|     0|    0|          0|    1|      0|        0|     0|      0|      0|      0|     1|       0|  0|      0|\n",
            "|       8|         Babe (1995)| 01-Jan-1995|              null|http://us.imdb.co...|      0|     0|        0|        0|        1|     1|    0|          0|    1|      0|        0|     0|      0|      0|      0|     0|       0|  0|      0|\n",
            "|       9|Dead Man Walking ...| 01-Jan-1995|              null|http://us.imdb.co...|      0|     0|        0|        0|        0|     0|    0|          0|    1|      0|        0|     0|      0|      0|      0|     0|       0|  0|      0|\n",
            "|      10|  Richard III (1995)| 22-Jan-1996|              null|http://us.imdb.co...|      0|     0|        0|        0|        0|     0|    0|          0|    1|      0|        0|     0|      0|      0|      0|     0|       0|  1|      0|\n",
            "|      11|Seven (Se7en) (1995)| 01-Jan-1995|              null|http://us.imdb.co...|      0|     0|        0|        0|        0|     0|    1|          0|    0|      0|        0|     0|      0|      0|      0|     0|       1|  0|      0|\n",
            "|      12|Usual Suspects, T...| 14-Aug-1995|              null|http://us.imdb.co...|      0|     0|        0|        0|        0|     0|    1|          0|    0|      0|        0|     0|      0|      0|      0|     0|       1|  0|      0|\n",
            "|      13|Mighty Aphrodite ...| 30-Oct-1995|              null|http://us.imdb.co...|      0|     0|        0|        0|        0|     1|    0|          0|    0|      0|        0|     0|      0|      0|      0|     0|       0|  0|      0|\n",
            "|      14|  Postino, Il (1994)| 01-Jan-1994|              null|http://us.imdb.co...|      0|     0|        0|        0|        0|     0|    0|          0|    1|      0|        0|     0|      0|      0|      1|     0|       0|  0|      0|\n",
            "|      15|Mr. Holland's Opu...| 29-Jan-1996|              null|http://us.imdb.co...|      0|     0|        0|        0|        0|     0|    0|          0|    1|      0|        0|     0|      0|      0|      0|     0|       0|  0|      0|\n",
            "|      16|French Twist (Gaz...| 01-Jan-1995|              null|http://us.imdb.co...|      0|     0|        0|        0|        0|     1|    0|          0|    0|      0|        0|     0|      0|      0|      1|     0|       0|  0|      0|\n",
            "|      17|From Dusk Till Da...| 05-Feb-1996|              null|http://us.imdb.co...|      0|     1|        0|        0|        0|     1|    1|          0|    0|      0|        0|     1|      0|      0|      0|     0|       1|  0|      0|\n",
            "|      18|White Balloon, Th...| 01-Jan-1995|              null|http://us.imdb.co...|      0|     0|        0|        0|        0|     0|    0|          0|    1|      0|        0|     0|      0|      0|      0|     0|       0|  0|      0|\n",
            "|      19|Antonia's Line (1...| 01-Jan-1995|              null|http://us.imdb.co...|      0|     0|        0|        0|        0|     0|    0|          0|    1|      0|        0|     0|      0|      0|      0|     0|       0|  0|      0|\n",
            "|      20|Angels and Insect...| 01-Jan-1995|              null|http://us.imdb.co...|      0|     0|        0|        0|        0|     0|    0|          0|    1|      0|        0|     0|      0|      0|      1|     0|       0|  0|      0|\n",
            "+--------+--------------------+------------+------------------+--------------------+-------+------+---------+---------+---------+------+-----+-----------+-----+-------+---------+------+-------+-------+-------+------+--------+---+-------+\n",
            "only showing top 20 rows\n",
            "\n"
          ]
        }
      ]
    },
    {
      "cell_type": "markdown",
      "source": [
        "EX_9"
      ],
      "metadata": {
        "id": "7MAb-yuuBbkQ"
      }
    },
    {
      "cell_type": "code",
      "source": [
        "mean_ratings = ratings.groupBy('item id').mean()\n",
        "mean_ratings.show()"
      ],
      "metadata": {
        "colab": {
          "base_uri": "https://localhost:8080/"
        },
        "id": "xfl_GFtYBdYn",
        "outputId": "14151ac5-bd5c-4fc0-87dc-8e1adf9a5512"
      },
      "execution_count": null,
      "outputs": [
        {
          "output_type": "stream",
          "name": "stdout",
          "text": [
            "+-------+------------------+------------+------------------+-------------------+\n",
            "|item id|      avg(user id)|avg(item id)|       avg(rating)|     avg(timestamp)|\n",
            "+-------+------------------+------------+------------------+-------------------+\n",
            "|    496| 479.5541125541126|       496.0| 4.121212121212121|8.834075530346321E8|\n",
            "|    471|480.42986425339365|       471.0|3.6108597285067874|8.825455640678734E8|\n",
            "|    463|413.88732394366195|       463.0| 3.859154929577465|8.835642413521127E8|\n",
            "|    148|       458.2890625|       148.0|          3.203125| 8.82992796296875E8|\n",
            "|   1342|             421.5|      1342.0|               2.5|        8.7976614E8|\n",
            "|    833|448.53061224489795|       833.0| 3.204081632653061|8.820745991020408E8|\n",
            "|   1088| 450.3076923076923|      1088.0| 2.230769230769231|8.826550739230769E8|\n",
            "|   1591| 569.3333333333334|      1591.0|3.1666666666666665|8.878335016666666E8|\n",
            "|   1238|           493.375|      1238.0|             3.125|    8.87964611125E8|\n",
            "|   1580|             405.0|      1580.0|               1.0|       8.85549543E8|\n",
            "|   1645|             655.0|      1645.0|               4.0|       8.92871225E8|\n",
            "|    392|424.47058823529414|       392.0|3.5441176470588234|8.836319664264706E8|\n",
            "|    623| 514.3846153846154|       623.0| 2.923076923076923|8.834674074102564E8|\n",
            "|    540| 425.8139534883721|       540.0| 2.511627906976744|8.819502968372093E8|\n",
            "|    858|146.33333333333334|       858.0|               1.0|       8.80965787E8|\n",
            "|    737| 447.4237288135593|       737.0| 2.983050847457627|8.833747679661016E8|\n",
            "|    243|  463.780303030303|       243.0|2.4393939393939394|     8.8393437175E8|\n",
            "|   1025| 513.1590909090909|      1025.0|2.9318181818181817|8.843232986136364E8|\n",
            "|   1084| 457.5238095238095|      1084.0| 3.857142857142857|8.826737414761904E8|\n",
            "|   1127| 534.6363636363636|      1127.0| 2.909090909090909|8.877777865454545E8|\n",
            "+-------+------------------+------------+------------------+-------------------+\n",
            "only showing top 20 rows\n",
            "\n"
          ]
        }
      ]
    },
    {
      "cell_type": "code",
      "source": [
        "mean_ratings = mean_ratings[['item id', 'avg(rating)']]\n",
        "mean_ratings.show()"
      ],
      "metadata": {
        "colab": {
          "base_uri": "https://localhost:8080/"
        },
        "id": "NHk2OdyyCMm7",
        "outputId": "0d208704-bcd3-4c5c-a1db-0f657a3ccfea"
      },
      "execution_count": null,
      "outputs": [
        {
          "output_type": "stream",
          "name": "stdout",
          "text": [
            "+-------+------------------+\n",
            "|item id|       avg(rating)|\n",
            "+-------+------------------+\n",
            "|    496| 4.121212121212121|\n",
            "|    471|3.6108597285067874|\n",
            "|    463| 3.859154929577465|\n",
            "|    148|          3.203125|\n",
            "|   1342|               2.5|\n",
            "|    833| 3.204081632653061|\n",
            "|   1088| 2.230769230769231|\n",
            "|   1591|3.1666666666666665|\n",
            "|   1238|             3.125|\n",
            "|   1580|               1.0|\n",
            "|   1645|               4.0|\n",
            "|    392|3.5441176470588234|\n",
            "|    623| 2.923076923076923|\n",
            "|    540| 2.511627906976744|\n",
            "|    858|               1.0|\n",
            "|    737| 2.983050847457627|\n",
            "|    243|2.4393939393939394|\n",
            "|   1025|2.9318181818181817|\n",
            "|   1084| 3.857142857142857|\n",
            "|   1127| 2.909090909090909|\n",
            "+-------+------------------+\n",
            "only showing top 20 rows\n",
            "\n"
          ]
        }
      ]
    },
    {
      "cell_type": "markdown",
      "source": [
        "EX_10"
      ],
      "metadata": {
        "id": "i0TGAcsBCcr7"
      }
    },
    {
      "cell_type": "code",
      "source": [
        "movies.createOrReplaceTempView('movies')"
      ],
      "metadata": {
        "id": "4ME0DuJlGkiK"
      },
      "execution_count": null,
      "outputs": []
    },
    {
      "cell_type": "code",
      "source": [
        "mean_ratings.createOrReplaceTempView('mean_ratings')"
      ],
      "metadata": {
        "id": "ZkGdQkQhGqYS"
      },
      "execution_count": null,
      "outputs": []
    },
    {
      "cell_type": "code",
      "source": [
        "mean_ratings = mean_ratings.withColumnRenamed('item id', 'movie id')\n",
        "mean_ratings.show()"
      ],
      "metadata": {
        "colab": {
          "base_uri": "https://localhost:8080/"
        },
        "id": "ZNqp-d_dKc4H",
        "outputId": "de995a6f-dc53-4734-9557-b964ff1eb1be"
      },
      "execution_count": null,
      "outputs": [
        {
          "output_type": "stream",
          "name": "stdout",
          "text": [
            "+--------+------------------+\n",
            "|movie id|       avg(rating)|\n",
            "+--------+------------------+\n",
            "|     496| 4.121212121212121|\n",
            "|     471|3.6108597285067874|\n",
            "|     463| 3.859154929577465|\n",
            "|     148|          3.203125|\n",
            "|    1342|               2.5|\n",
            "|     833| 3.204081632653061|\n",
            "|    1088| 2.230769230769231|\n",
            "|    1591|3.1666666666666665|\n",
            "|    1238|             3.125|\n",
            "|    1580|               1.0|\n",
            "|    1645|               4.0|\n",
            "|     392|3.5441176470588234|\n",
            "|     623| 2.923076923076923|\n",
            "|     540| 2.511627906976744|\n",
            "|     858|               1.0|\n",
            "|     737| 2.983050847457627|\n",
            "|     243|2.4393939393939394|\n",
            "|    1025|2.9318181818181817|\n",
            "|    1084| 3.857142857142857|\n",
            "|    1127| 2.909090909090909|\n",
            "+--------+------------------+\n",
            "only showing top 20 rows\n",
            "\n"
          ]
        }
      ]
    },
    {
      "cell_type": "code",
      "source": [
        "movies_ratings = movies.join(mean_ratings, 'movie id', how='left')\n",
        "movies_ratings.show()"
      ],
      "metadata": {
        "colab": {
          "base_uri": "https://localhost:8080/"
        },
        "id": "-yCuNbOwKu8J",
        "outputId": "7ad58678-9f06-4b4f-f443-6c8cca5a9e91"
      },
      "execution_count": null,
      "outputs": [
        {
          "output_type": "stream",
          "name": "stdout",
          "text": [
            "+--------+--------------------+------------+------------------+--------------------+-------+------+---------+---------+---------+------+-----+-----------+-----+-------+---------+------+-------+-------+-------+------+--------+---+-------+------------------+\n",
            "|movie id|         movie title|release date|video release date|            IMDb URL|unknown|Action|Adventure|Animation|Childrens|Comedy|Crime|Documentary|Drama|Fantasy|Film-Noir|Horror|Musical|Mystery|Romance|Sci-Fi|Thriller|War|Western|       avg(rating)|\n",
            "+--------+--------------------+------------+------------------+--------------------+-------+------+---------+---------+---------+------+-----+-----------+-----+-------+---------+------+-------+-------+-------+------+--------+---+-------+------------------+\n",
            "|       1|    Toy Story (1995)| 01-Jan-1995|              null|http://us.imdb.co...|      0|     0|        0|        1|        1|     1|    0|          0|    0|      0|        0|     0|      0|      0|      0|     0|       0|  0|      0|3.8783185840707963|\n",
            "|       2|    GoldenEye (1995)| 01-Jan-1995|              null|http://us.imdb.co...|      0|     1|        1|        0|        0|     0|    0|          0|    0|      0|        0|     0|      0|      0|      0|     0|       1|  0|      0|3.2061068702290076|\n",
            "|       3|   Four Rooms (1995)| 01-Jan-1995|              null|http://us.imdb.co...|      0|     0|        0|        0|        0|     0|    0|          0|    0|      0|        0|     0|      0|      0|      0|     0|       1|  0|      0| 3.033333333333333|\n",
            "|       4|   Get Shorty (1995)| 01-Jan-1995|              null|http://us.imdb.co...|      0|     1|        0|        0|        0|     1|    0|          0|    1|      0|        0|     0|      0|      0|      0|     0|       0|  0|      0| 3.550239234449761|\n",
            "|       5|      Copycat (1995)| 01-Jan-1995|              null|http://us.imdb.co...|      0|     0|        0|        0|        0|     0|    1|          0|    1|      0|        0|     0|      0|      0|      0|     0|       1|  0|      0| 3.302325581395349|\n",
            "|       6|Shanghai Triad (Y...| 01-Jan-1995|              null|http://us.imdb.co...|      0|     0|        0|        0|        0|     0|    0|          0|    1|      0|        0|     0|      0|      0|      0|     0|       0|  0|      0| 3.576923076923077|\n",
            "|       7|Twelve Monkeys (1...| 01-Jan-1995|              null|http://us.imdb.co...|      0|     0|        0|        0|        0|     0|    0|          0|    1|      0|        0|     0|      0|      0|      0|     1|       0|  0|      0| 3.798469387755102|\n",
            "|       8|         Babe (1995)| 01-Jan-1995|              null|http://us.imdb.co...|      0|     0|        0|        0|        1|     1|    0|          0|    1|      0|        0|     0|      0|      0|      0|     0|       0|  0|      0|3.9954337899543377|\n",
            "|       9|Dead Man Walking ...| 01-Jan-1995|              null|http://us.imdb.co...|      0|     0|        0|        0|        0|     0|    0|          0|    1|      0|        0|     0|      0|      0|      0|     0|       0|  0|      0|3.8963210702341136|\n",
            "|      10|  Richard III (1995)| 22-Jan-1996|              null|http://us.imdb.co...|      0|     0|        0|        0|        0|     0|    0|          0|    1|      0|        0|     0|      0|      0|      0|     0|       0|  1|      0| 3.831460674157303|\n",
            "|      11|Seven (Se7en) (1995)| 01-Jan-1995|              null|http://us.imdb.co...|      0|     0|        0|        0|        0|     0|    1|          0|    0|      0|        0|     0|      0|      0|      0|     0|       1|  0|      0| 3.847457627118644|\n",
            "|      12|Usual Suspects, T...| 14-Aug-1995|              null|http://us.imdb.co...|      0|     0|        0|        0|        0|     0|    1|          0|    0|      0|        0|     0|      0|      0|      0|     0|       1|  0|      0| 4.385767790262173|\n",
            "|      13|Mighty Aphrodite ...| 30-Oct-1995|              null|http://us.imdb.co...|      0|     0|        0|        0|        0|     1|    0|          0|    0|      0|        0|     0|      0|      0|      0|     0|       0|  0|      0|3.4184782608695654|\n",
            "|      14|  Postino, Il (1994)| 01-Jan-1994|              null|http://us.imdb.co...|      0|     0|        0|        0|        0|     0|    0|          0|    1|      0|        0|     0|      0|      0|      1|     0|       0|  0|      0|3.9672131147540983|\n",
            "|      15|Mr. Holland's Opu...| 29-Jan-1996|              null|http://us.imdb.co...|      0|     0|        0|        0|        0|     0|    0|          0|    1|      0|        0|     0|      0|      0|      0|     0|       0|  0|      0|3.7781569965870307|\n",
            "|      16|French Twist (Gaz...| 01-Jan-1995|              null|http://us.imdb.co...|      0|     0|        0|        0|        0|     1|    0|          0|    0|      0|        0|     0|      0|      0|      1|     0|       0|  0|      0|3.2051282051282053|\n",
            "|      17|From Dusk Till Da...| 05-Feb-1996|              null|http://us.imdb.co...|      0|     1|        0|        0|        0|     1|    1|          0|    0|      0|        0|     1|      0|      0|      0|     0|       1|  0|      0| 3.119565217391304|\n",
            "|      18|White Balloon, Th...| 01-Jan-1995|              null|http://us.imdb.co...|      0|     0|        0|        0|        0|     0|    0|          0|    1|      0|        0|     0|      0|      0|      0|     0|       0|  0|      0|               2.8|\n",
            "|      19|Antonia's Line (1...| 01-Jan-1995|              null|http://us.imdb.co...|      0|     0|        0|        0|        0|     0|    0|          0|    1|      0|        0|     0|      0|      0|      0|     0|       0|  0|      0|3.9565217391304346|\n",
            "|      20|Angels and Insect...| 01-Jan-1995|              null|http://us.imdb.co...|      0|     0|        0|        0|        0|     0|    0|          0|    1|      0|        0|     0|      0|      0|      1|     0|       0|  0|      0|3.4166666666666665|\n",
            "+--------+--------------------+------------+------------------+--------------------+-------+------+---------+---------+---------+------+-----+-----------+-----+-------+---------+------+-------+-------+-------+------+--------+---+-------+------------------+\n",
            "only showing top 20 rows\n",
            "\n"
          ]
        }
      ]
    },
    {
      "cell_type": "code",
      "source": [
        "movies_ratings.columns"
      ],
      "metadata": {
        "colab": {
          "base_uri": "https://localhost:8080/"
        },
        "id": "WS_QIf4W_GbF",
        "outputId": "066921ac-20be-4df4-c89c-a9f113a53923"
      },
      "execution_count": null,
      "outputs": [
        {
          "output_type": "execute_result",
          "data": {
            "text/plain": [
              "['movie id',\n",
              " 'movie title',\n",
              " 'release date',\n",
              " 'video release date',\n",
              " 'IMDb URL',\n",
              " 'unknown',\n",
              " 'Action',\n",
              " 'Adventure',\n",
              " 'Animation',\n",
              " 'Childrens',\n",
              " 'Comedy',\n",
              " 'Crime',\n",
              " 'Documentary',\n",
              " 'Drama',\n",
              " 'Fantasy',\n",
              " 'Film-Noir',\n",
              " 'Horror',\n",
              " 'Musical',\n",
              " 'Mystery',\n",
              " 'Romance',\n",
              " 'Sci-Fi',\n",
              " 'Thriller',\n",
              " 'War',\n",
              " 'Western',\n",
              " 'avg(rating)']"
            ]
          },
          "metadata": {},
          "execution_count": 27
        }
      ]
    },
    {
      "cell_type": "code",
      "source": [
        "movies_ratings_n = movies_ratings[['unknown',\n",
        " 'Action',\n",
        " 'Adventure',\n",
        " 'Animation',\n",
        " 'Childrens',\n",
        " 'Comedy',\n",
        " 'Crime',\n",
        " 'Documentary',\n",
        " 'Drama',\n",
        " 'Fantasy',\n",
        " 'Film-Noir',\n",
        " 'Horror',\n",
        " 'Musical',\n",
        " 'Mystery',\n",
        " 'Romance',\n",
        " 'Sci-Fi',\n",
        " 'Thriller',\n",
        " 'War',\n",
        " 'Western',\n",
        " 'avg(rating)']]\n",
        "movies_ratings_n.show()"
      ],
      "metadata": {
        "colab": {
          "base_uri": "https://localhost:8080/"
        },
        "id": "3qUuMNly_lUp",
        "outputId": "51d46aa6-f186-42f8-a3ed-142e3579f63d"
      },
      "execution_count": null,
      "outputs": [
        {
          "output_type": "stream",
          "name": "stdout",
          "text": [
            "+-------+------+---------+---------+---------+------+-----+-----------+-----+-------+---------+------+-------+-------+-------+------+--------+---+-------+------------------+\n",
            "|unknown|Action|Adventure|Animation|Childrens|Comedy|Crime|Documentary|Drama|Fantasy|Film-Noir|Horror|Musical|Mystery|Romance|Sci-Fi|Thriller|War|Western|       avg(rating)|\n",
            "+-------+------+---------+---------+---------+------+-----+-----------+-----+-------+---------+------+-------+-------+-------+------+--------+---+-------+------------------+\n",
            "|      0|     0|        0|        1|        1|     1|    0|          0|    0|      0|        0|     0|      0|      0|      0|     0|       0|  0|      0|3.8783185840707963|\n",
            "|      0|     1|        1|        0|        0|     0|    0|          0|    0|      0|        0|     0|      0|      0|      0|     0|       1|  0|      0|3.2061068702290076|\n",
            "|      0|     0|        0|        0|        0|     0|    0|          0|    0|      0|        0|     0|      0|      0|      0|     0|       1|  0|      0| 3.033333333333333|\n",
            "|      0|     1|        0|        0|        0|     1|    0|          0|    1|      0|        0|     0|      0|      0|      0|     0|       0|  0|      0| 3.550239234449761|\n",
            "|      0|     0|        0|        0|        0|     0|    1|          0|    1|      0|        0|     0|      0|      0|      0|     0|       1|  0|      0| 3.302325581395349|\n",
            "|      0|     0|        0|        0|        0|     0|    0|          0|    1|      0|        0|     0|      0|      0|      0|     0|       0|  0|      0| 3.576923076923077|\n",
            "|      0|     0|        0|        0|        0|     0|    0|          0|    1|      0|        0|     0|      0|      0|      0|     1|       0|  0|      0| 3.798469387755102|\n",
            "|      0|     0|        0|        0|        1|     1|    0|          0|    1|      0|        0|     0|      0|      0|      0|     0|       0|  0|      0|3.9954337899543377|\n",
            "|      0|     0|        0|        0|        0|     0|    0|          0|    1|      0|        0|     0|      0|      0|      0|     0|       0|  0|      0|3.8963210702341136|\n",
            "|      0|     0|        0|        0|        0|     0|    0|          0|    1|      0|        0|     0|      0|      0|      0|     0|       0|  1|      0| 3.831460674157303|\n",
            "|      0|     0|        0|        0|        0|     0|    1|          0|    0|      0|        0|     0|      0|      0|      0|     0|       1|  0|      0| 3.847457627118644|\n",
            "|      0|     0|        0|        0|        0|     0|    1|          0|    0|      0|        0|     0|      0|      0|      0|     0|       1|  0|      0| 4.385767790262173|\n",
            "|      0|     0|        0|        0|        0|     1|    0|          0|    0|      0|        0|     0|      0|      0|      0|     0|       0|  0|      0|3.4184782608695654|\n",
            "|      0|     0|        0|        0|        0|     0|    0|          0|    1|      0|        0|     0|      0|      0|      1|     0|       0|  0|      0|3.9672131147540983|\n",
            "|      0|     0|        0|        0|        0|     0|    0|          0|    1|      0|        0|     0|      0|      0|      0|     0|       0|  0|      0|3.7781569965870307|\n",
            "|      0|     0|        0|        0|        0|     1|    0|          0|    0|      0|        0|     0|      0|      0|      1|     0|       0|  0|      0|3.2051282051282053|\n",
            "|      0|     1|        0|        0|        0|     1|    1|          0|    0|      0|        0|     1|      0|      0|      0|     0|       1|  0|      0| 3.119565217391304|\n",
            "|      0|     0|        0|        0|        0|     0|    0|          0|    1|      0|        0|     0|      0|      0|      0|     0|       0|  0|      0|               2.8|\n",
            "|      0|     0|        0|        0|        0|     0|    0|          0|    1|      0|        0|     0|      0|      0|      0|     0|       0|  0|      0|3.9565217391304346|\n",
            "|      0|     0|        0|        0|        0|     0|    0|          0|    1|      0|        0|     0|      0|      0|      1|     0|       0|  0|      0|3.4166666666666665|\n",
            "+-------+------+---------+---------+---------+------+-----+-----------+-----+-------+---------+------+-------+-------+-------+------+--------+---+-------+------------------+\n",
            "only showing top 20 rows\n",
            "\n"
          ]
        }
      ]
    },
    {
      "cell_type": "markdown",
      "source": [
        "## ЗДЕСЬ"
      ],
      "metadata": {
        "id": "L-txenMZdN9e"
      }
    },
    {
      "cell_type": "code",
      "source": [
        "final_list = []\n",
        "for col in movies_ratings_n.columns:\n",
        "  movies_ratings1 = movies_ratings_n.groupBy(col).mean()\n",
        "  final_list.append(movies_ratings1[[col, 'avg(avg(rating))']].take(1))"
      ],
      "metadata": {
        "id": "rVHmnT6o_5PS"
      },
      "execution_count": null,
      "outputs": []
    },
    {
      "cell_type": "code",
      "source": [
        "final_list"
      ],
      "metadata": {
        "colab": {
          "base_uri": "https://localhost:8080/"
        },
        "id": "5G5R3jf9AuH7",
        "outputId": "37456714-b592-46c1-9208-b1c9bbca7637"
      },
      "execution_count": null,
      "outputs": [
        {
          "output_type": "execute_result",
          "data": {
            "text/plain": [
              "[[Row(unknown=1, avg(avg(rating))=2.2222222222222223)],\n",
              " [Row(Action=1, avg(avg(rating))=2.966332403758986)],\n",
              " [Row(Adventure=1, avg(avg(rating))=3.1439673136976105)],\n",
              " [Row(Animation=1, avg(avg(rating))=3.2988130803823776)],\n",
              " [Row(Childrens=1, avg(avg(rating))=2.916884891868897)],\n",
              " [Row(Comedy=1, avg(avg(rating))=3.0005649618406727)],\n",
              " [Row(Crime=1, avg(avg(rating))=3.2110147495997547)],\n",
              " [Row(Documentary=1, avg(avg(rating))=3.229273094093941)],\n",
              " [Row(Drama=1, avg(avg(rating))=3.1873534142973314)],\n",
              " [Row(Fantasy=1, avg(avg(rating))=2.849830297920943)],\n",
              " [Row(Film-Noir=1, avg(avg(rating))=3.5483508757184237)],\n",
              " [Row(Horror=1, avg(avg(rating))=2.730157352996138)],\n",
              " [Row(Musical=1, avg(avg(rating))=3.376423123539873)],\n",
              " [Row(Mystery=1, avg(avg(rating))=3.336813932383023)],\n",
              " [Row(Romance=1, avg(avg(rating))=3.2440490301647995)],\n",
              " [Row(Sci-Fi=1, avg(avg(rating))=3.1654460532512894)],\n",
              " [Row(Thriller=1, avg(avg(rating))=3.136692475563836)],\n",
              " [Row(War=1, avg(avg(rating))=3.489185428943569)],\n",
              " [Row(Western=1, avg(avg(rating))=3.185617473056144)],\n",
              " [Row(avg(rating)=3.141732283464567, avg(avg(rating))=3.141732283464567)]]"
            ]
          },
          "metadata": {},
          "execution_count": 71
        }
      ]
    },
    {
      "cell_type": "code",
      "source": [
        "final_list.pop(len(final_list) - 1)"
      ],
      "metadata": {
        "colab": {
          "base_uri": "https://localhost:8080/"
        },
        "id": "0T8kca8DBu1J",
        "outputId": "8df7b731-3cff-43d7-db5a-12c822a68775"
      },
      "execution_count": null,
      "outputs": [
        {
          "output_type": "execute_result",
          "data": {
            "text/plain": [
              "[Row(avg(rating)=3.141732283464567, avg(avg(rating))=3.141732283464567)]"
            ]
          },
          "metadata": {},
          "execution_count": 72
        }
      ]
    },
    {
      "cell_type": "code",
      "source": [
        "final_list"
      ],
      "metadata": {
        "colab": {
          "base_uri": "https://localhost:8080/"
        },
        "id": "KRW8jzH1B1FC",
        "outputId": "ee3fcafd-920e-44b5-eaee-0ac68cd65847"
      },
      "execution_count": null,
      "outputs": [
        {
          "output_type": "execute_result",
          "data": {
            "text/plain": [
              "[[Row(unknown=1, avg(avg(rating))=2.2222222222222223)],\n",
              " [Row(Action=1, avg(avg(rating))=2.966332403758986)],\n",
              " [Row(Adventure=1, avg(avg(rating))=3.1439673136976105)],\n",
              " [Row(Animation=1, avg(avg(rating))=3.2988130803823776)],\n",
              " [Row(Childrens=1, avg(avg(rating))=2.916884891868897)],\n",
              " [Row(Comedy=1, avg(avg(rating))=3.0005649618406727)],\n",
              " [Row(Crime=1, avg(avg(rating))=3.2110147495997547)],\n",
              " [Row(Documentary=1, avg(avg(rating))=3.229273094093941)],\n",
              " [Row(Drama=1, avg(avg(rating))=3.1873534142973314)],\n",
              " [Row(Fantasy=1, avg(avg(rating))=2.849830297920943)],\n",
              " [Row(Film-Noir=1, avg(avg(rating))=3.5483508757184237)],\n",
              " [Row(Horror=1, avg(avg(rating))=2.730157352996138)],\n",
              " [Row(Musical=1, avg(avg(rating))=3.376423123539873)],\n",
              " [Row(Mystery=1, avg(avg(rating))=3.336813932383023)],\n",
              " [Row(Romance=1, avg(avg(rating))=3.2440490301647995)],\n",
              " [Row(Sci-Fi=1, avg(avg(rating))=3.1654460532512894)],\n",
              " [Row(Thriller=1, avg(avg(rating))=3.136692475563836)],\n",
              " [Row(War=1, avg(avg(rating))=3.489185428943569)],\n",
              " [Row(Western=1, avg(avg(rating))=3.185617473056144)]]"
            ]
          },
          "metadata": {},
          "execution_count": 73
        }
      ]
    },
    {
      "cell_type": "code",
      "source": [
        "for el in final_list:\n",
        "  a = spark.sparkContext.parallelize(el)\n",
        "  b = a.toDF()\n",
        "  b.show()"
      ],
      "metadata": {
        "id": "gW4CpQ0_F9j2"
      },
      "execution_count": null,
      "outputs": []
    },
    {
      "cell_type": "markdown",
      "source": [
        "EX_11"
      ],
      "metadata": {
        "id": "Lxe07VTQK44J"
      }
    },
    {
      "cell_type": "code",
      "source": [
        "count_ratings = ratings.groupBy('item id').count()\n",
        "count_ratings.show()"
      ],
      "metadata": {
        "colab": {
          "base_uri": "https://localhost:8080/"
        },
        "id": "e51_WozaK4IZ",
        "outputId": "e01f4511-613c-40b5-a8c7-65bd4584135a"
      },
      "execution_count": null,
      "outputs": [
        {
          "output_type": "stream",
          "name": "stdout",
          "text": [
            "+-------+-----+\n",
            "|item id|count|\n",
            "+-------+-----+\n",
            "|    496|  231|\n",
            "|    471|  221|\n",
            "|    463|   71|\n",
            "|    148|  128|\n",
            "|   1342|    2|\n",
            "|    833|   49|\n",
            "|   1088|   13|\n",
            "|   1591|    6|\n",
            "|   1238|    8|\n",
            "|   1580|    1|\n",
            "|   1645|    1|\n",
            "|    392|   68|\n",
            "|    623|   39|\n",
            "|    540|   43|\n",
            "|    858|    3|\n",
            "|    737|   59|\n",
            "|    243|  132|\n",
            "|   1025|   44|\n",
            "|   1084|   21|\n",
            "|   1127|   11|\n",
            "+-------+-----+\n",
            "only showing top 20 rows\n",
            "\n"
          ]
        }
      ]
    },
    {
      "cell_type": "code",
      "source": [
        "count_ratings.orderBy('count').show(5)"
      ],
      "metadata": {
        "colab": {
          "base_uri": "https://localhost:8080/"
        },
        "id": "RJftcPuTgqqw",
        "outputId": "8777c014-76cf-4a56-be54-dbea80b6e7ac"
      },
      "execution_count": null,
      "outputs": [
        {
          "output_type": "stream",
          "name": "stdout",
          "text": [
            "+-------+-----+\n",
            "|item id|count|\n",
            "+-------+-----+\n",
            "|   1460|    1|\n",
            "|   1618|    1|\n",
            "|   1339|    1|\n",
            "|   1645|    1|\n",
            "|   1650|    1|\n",
            "+-------+-----+\n",
            "only showing top 5 rows\n",
            "\n"
          ]
        }
      ]
    },
    {
      "cell_type": "code",
      "source": [
        "count_ratings.sort(count_ratings['count'].desc()).show(5)"
      ],
      "metadata": {
        "colab": {
          "base_uri": "https://localhost:8080/"
        },
        "id": "zom0Y4vYhExs",
        "outputId": "9895d766-1e3b-48c2-cd4a-e05f591d5c11"
      },
      "execution_count": null,
      "outputs": [
        {
          "output_type": "stream",
          "name": "stdout",
          "text": [
            "+-------+-----+\n",
            "|item id|count|\n",
            "+-------+-----+\n",
            "|     50|  583|\n",
            "|    258|  509|\n",
            "|    100|  508|\n",
            "|    181|  507|\n",
            "|    294|  485|\n",
            "+-------+-----+\n",
            "only showing top 5 rows\n",
            "\n"
          ]
        }
      ]
    }
  ]
}